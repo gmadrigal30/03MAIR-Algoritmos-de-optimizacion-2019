{
  "nbformat": 4,
  "nbformat_minor": 0,
  "metadata": {
    "colab": {
      "name": "Copy of Seminario(plantilla) - Algoritmos.ipynb",
      "version": "0.3.2",
      "provenance": [],
      "collapsed_sections": [],
      "include_colab_link": true
    },
    "kernelspec": {
      "name": "python3",
      "display_name": "Python 3"
    }
  },
  "cells": [
    {
      "cell_type": "markdown",
      "metadata": {
        "id": "view-in-github",
        "colab_type": "text"
      },
      "source": [
        "<a href=\"https://colab.research.google.com/github/gmadrigal30/03MAIR-Algoritmos-de-optimizacion-2019/blob/master/SEMINARIO/Guillermo_Madrigal-Seminario_Algoritmos.ipynb\" target=\"_parent\"><img src=\"https://colab.research.google.com/assets/colab-badge.svg\" alt=\"Open In Colab\"/></a>"
      ]
    },
    {
      "metadata": {
        "id": "hVbXYX-RfPWh",
        "colab_type": "text"
      },
      "cell_type": "markdown",
      "source": [
        "# Algoritmos de optimización - Seminario<br>\n",
        "Nombre y Apellidos: Guillermo Madrigal Gutiérrez  <br>\n",
        "Url: https://github.com/.../03MAIR---Algoritmos-de-Optimizacion---2019/tree/master/SEMINARIO<br>\n",
        "Problema:\n",
        ">3. Combinar cifras y operaciones<br>\n",
        "\n",
        "**Descripción del problema:**\n",
        "\n",
        "El problema consiste en analizar el siguiente problema y diseñar un algoritmo que lo resuelva.<br>\n",
        "* Disponemos de las 9 cifras del 1 al 9 (excluimos el cero) y de los 4 signos básicos de las\n",
        "operaciones fundamentales: suma(+), resta(-), multiplicación(*) y división(/)<br>\n",
        "* Debemos combinarlos alternativamente sin repetir ninguno de ellos para obtener una\n",
        "cantidad dada. <br>\n",
        "\n",
        "Un **ejemplo** sería para obtener el 4: 4+2-6/3*1 = 4"
      ]
    },
    {
      "metadata": {
        "id": "3_-exlrTgLd-",
        "colab_type": "text"
      },
      "cell_type": "markdown",
      "source": [
        "(*)<font color = \"green\">¿Cuantas posibilidades hay sin tener en cuenta las restricciones?<br>\n",
        "\n",
        "\n",
        "\n",
        "¿Cuantas posibilidades hay teniendo en cuenta todas las restricciones.</font>\n",
        "\n",
        "\n"
      ]
    },
    {
      "metadata": {
        "id": "WfCUqJyKhPcw",
        "colab_type": "text"
      },
      "cell_type": "markdown",
      "source": [
        "Respuesta"
      ]
    },
    {
      "metadata": {
        "id": "qTyK22pLS3ce",
        "colab_type": "text"
      },
      "cell_type": "markdown",
      "source": [
        "Para calcular el número de posibilidades tiraremos de combinaciones\n",
        "\n",
        "* Disponemos de 9 dígitos  (<font color = \"red\">1|2|3|4|5|6|7|8|9</font>)\n",
        "* Disponemos de 4 signos( <font color = \"blue\">+|-|*|/</font>)\n",
        "\n",
        "** Restricciones: **\n",
        "* No se pueden repetir ni dígitos ni signos\n",
        "\n",
        "#### Número de posibilidades sin restricciones ####\n",
        "\n",
        "Como los valores son independientes entre sí, la forma de calcular el número total de posibilidades es multiplicar, por cada posición, el número de valores que puede tomar en dicho lugar (9 posibilidades en la posición de un dígito y 4 en la posición de un signo), es decir:\n",
        "* ```9*4*9*4*9*4*9*4*9``` = **15116544**\n",
        "\n",
        "#### Número de posibilidades con restricciones ####\n",
        "\n",
        "Como las restricciones limitan que no se pueda  utilizar 2 veces un dígito o número nuestra fórmula quedaría como (Para los dígitos empezaríamos con 9 posibilidades para la primera posición de un dígito, eliminas 1 posibilidad para la siguiente posición por lo que la segunda vez serían 8 posibilidades, la tercera 7, la cuarta 6 y la quinta 5. En el caso de los dígitos empezaríamos por 4 posibilidades para la primera posición, 3 para la segunda, 2 para la tercera y 1 para la última):\n",
        "\n",
        "* ```9*4*8*3*7*2*6*1*5``` = **362880**"
      ]
    },
    {
      "metadata": {
        "id": "k51689fkRBwG",
        "colab_type": "text"
      },
      "cell_type": "markdown",
      "source": [
        "(*) <font color = \"green\">¿Cual es el valor máximo y mínimo que se puede obtener</font>"
      ]
    },
    {
      "metadata": {
        "id": "vcsIfXmnfZOI",
        "colab_type": "text"
      },
      "cell_type": "markdown",
      "source": [
        "En este punto intentaremos acotar los valores máximos y mínimos que podemos obtener con esta combinación de dígitos y signos. Nos apoyaremos para ello en la multiplicación de 8*9 que es el mayor valor que podemos obtener con 2 dígitos y un signo. También tendremos en cuenta que el valor mínimo puede ser un número negativo, así como que la multiplicación y división tienen igual precedencia y esta es mayor que en el caso de la suma y la resta que tienen igualmente la misma precedencia. En el caso de operaciones con la misma precedencia se evalúa de izquierda a derecha.\n",
        "\n",
        "* máx =  ```7+8*9-6/3 = ``` **77** \n",
        "* min =  ```1+4/2-9*8 = ``` **-69** "
      ]
    },
    {
      "metadata": {
        "id": "dzynfVJahHoY",
        "colab_type": "text"
      },
      "cell_type": "markdown",
      "source": [
        "<font color = \"green\">Modelo para el espacio de soluciones<br>\n",
        "(*)¿Cual es la estructura de datos que mejor se adapta al problema? Argumentalo.(Es posible que hayas elegido una al principio y veas la necesidad de cambiar, arguentalo)</font>\n"
      ]
    },
    {
      "metadata": {
        "id": "xFIJrOwKi2Ti",
        "colab_type": "text"
      },
      "cell_type": "markdown",
      "source": [
        "Trabajaré con 2 estructuras tipo lista (en una guardaré los dígito (0|9) y en la otra los 4 operadores posibles):\n",
        "\n",
        "* digitos = ['1','2','3','4','5','6','7','8','9']\n",
        "* signos = ['+','-','*','/']\n",
        "\n",
        "* Además para guardar la solución del algortimo de vuelta atrás usé otra lista de 9 posiciones para guardar la expresión"
      ]
    },
    {
      "metadata": {
        "id": "7Z9U2W7bi-XS",
        "colab_type": "text"
      },
      "cell_type": "markdown",
      "source": [
        "<font color = \"green\">Según el modelo para el espacio de soluciones<br>\n",
        "(*)¿Cual es la función objetivo?\n",
        "\n",
        "(*)¿Es un problema de maximización o minimización?</font>"
      ]
    },
    {
      "metadata": {
        "id": "hBalWLM7j1_d",
        "colab_type": "text"
      },
      "cell_type": "markdown",
      "source": [
        "* Nuestra función objetivo es encontrar una combinación de dígitos y operadores (sin que se repitan según las restricciones) que como resultado den el valor entrado por parámetro, para implementar esta comprobación haremos uso de la función eval() de python. Hay que tener en cuenta que la función eval evalúa una cadena de combinaciones ej: eval(\"7+8*9-6/3\")\n",
        "* El problema no es de maximización o minimización, se trata de conseguir el valor exacto entrado por parámetro usando alguna combinación de dígitos y operandos que produzca esa salida."
      ]
    },
    {
      "metadata": {
        "id": "rlnTYgY1j6I2",
        "colab_type": "text"
      },
      "cell_type": "markdown",
      "source": [
        "<font color = \"green\">Diseña un algoritmo para resolver el problema por fuerza bruta</font>"
      ]
    },
    {
      "metadata": {
        "id": "CJb5sQ0qkENy",
        "colab_type": "code",
        "outputId": "acdc0746-2803-42ab-fa8b-2f5f3ef6390a",
        "colab": {
          "base_uri": "https://localhost:8080/",
          "height": 212
        }
      },
      "cell_type": "code",
      "source": [
        "# Aplicando fuerza bruta lo que haremos es crear una función que construya una expresión que siga las restricciones de nuestro problema \n",
        "# Esta función la llamaremos iterativamente hasta que nos devuelva una expresión que al evaluarse usando el método eval() nos devuelva el resultado que buscamos\n",
        "# Nuestra expresión seguirá la siguiente nomenclatura (d1)(s1)(d2)(s2)(d3)(s3)(d4)(s4)(d5)\n",
        "\n",
        "\n",
        "# creamos una función a la cuál le pasaremos las listas de digitos, signos y el valor que queremos obtener\n",
        "def fuerza_bruta(digitos,signos,valor):\n",
        "  \n",
        "  # creamos las variables de nuestra ecuación (d1)(s1)(d2)(s2)(d3)(s3)(d4)(s4)(d5)\n",
        "  d1,d2,d3,d4,d5 = \"\",\"\",\"\",\"\",\"\"\n",
        "  s1,s2,s3,s4 = \"\",\"\",\"\",\"\"\n",
        "  \n",
        "  # hacemos la comprobación de que el valor buscado esté entre los máximos y mínimos que obtuvimos anteriormente\n",
        "  if valor > 77 or valor < -69:\n",
        "    return 'El valor ' + str(valor) + ' no está entre -69 y 77'\n",
        "  \n",
        "  # vamos recorriendo anidadamente y comprobando que no se repita el digito o signo\n",
        "  for i in range(len(digitos)):\n",
        "    d1 = digitos[i]\n",
        "    for j in range (len(signos)):\n",
        "      s1 = signos[j]\n",
        "      for i in range(len(digitos)):\n",
        "        # compruebo que el digito actual sea diferente del 1\n",
        "        if digitos[i] != d1:\n",
        "          d2 = digitos[i]\n",
        "        else:\n",
        "          # si el dígito actual es igual al digito 1 cojo el siguiente del ciclo\n",
        "          continue\n",
        "        for j in range (len(signos)):\n",
        "          #compruebo que el signo actual sea diferente del 1\n",
        "          if signos[j] != s1:\n",
        "            s2 = signos[j]\n",
        "          else:\n",
        "            # si el signo actual es igual al signo 1 cojo el siguiente del ciclo\n",
        "            continue\n",
        "          for i in range(len(digitos)):\n",
        "            # compruebo que el digito actual sea diferente del 1 y del 2\n",
        "            if digitos[i] != d1 and digitos[i] != d2:\n",
        "              d3 = digitos[i]\n",
        "            else:\n",
        "              # si el dígito actual es igual al digito 1 o al 2 cojo el siguiente del ciclo\n",
        "              continue\n",
        "            for j in range (len(signos)):\n",
        "              #compruebo que el signo actual sea diferente del 1 y del 2\n",
        "              if signos[j] != s1 and signos[j] != s2:\n",
        "                s3 = signos[j]\n",
        "              else:\n",
        "                # si el signo actual es igual al signo 1 o al 2 cojo el siguiente del ciclo\n",
        "                continue\n",
        "              for i in range(len(digitos)):\n",
        "                # compruebo que el digito actual sea diferente del 1, del 2 y del 3\n",
        "                if digitos[i] != d1 and digitos[i] != d2 and digitos[i] != d3:\n",
        "                  d4 = digitos[i]\n",
        "                else:\n",
        "                  # si el dígito actual es igual al digito 1, al 2 o al 3 cojo el siguiente del ciclo\n",
        "                  continue\n",
        "                for j in range (len(signos)):\n",
        "                  #compruebo que el signo actual sea diferente del 1, del 2 y del 3\n",
        "                  if signos[j] != s1 and signos[j] != s2 and signos[j] != s3:\n",
        "                    s4 = signos[j]\n",
        "                  else:\n",
        "                    # si el signo actual es igual al signo 1, al 2 o al 3 cojo el siguiente del ciclo\n",
        "                    continue\n",
        "                  for i in range(len(digitos)):\n",
        "                     # compruebo que el digito actual sea diferente del 1, del 2, del 3 y del 4\n",
        "                    if digitos[i] != d1 and digitos[i] != d2 and digitos[i] != d3 and digitos[i] != d4:\n",
        "                      d5 = digitos[i]\n",
        "                    else:\n",
        "                      # si el dígito actual es igual al digito 1, al 2, al 3 o al 4 cojo el siguiente del ciclo\n",
        "                      continue\n",
        "                      \n",
        "                    # evaluo si la expresión obtenida es igual al valor que se busca\n",
        "                    # en caso afirmativo devuelvo la función, de lo contrario comienzo desde el principio con otra combinación\n",
        "                    if eval(d1+s1+d2+s2+d3+s3+d4+s4+d5) == valor:\n",
        "                      return 'La expresión ' + str(d1+s1+d2+s2+d3+s3+d4+s4+d5) + ' devuelve el valor buscado de: ' + str(valor)\n",
        "  return 'El valor '+str(valor)+' no se puede conseguir con las condiciones actuales'\n",
        "              \n",
        "\n",
        "              \n",
        "# lista con los dígitos del enunciado\n",
        "digitos=['1','2','3','4','5','6','7','8','9']\n",
        "# lista conlos signos del enunciado\n",
        "signos =['+','-','*','/']\n",
        "\n",
        "\n",
        "# lista de posibles resultados para comprobar la validez del algoritmo\n",
        "resultado = [-69,77,1,65,-48,-3,8,16,0,100,-33]\n",
        "\n",
        "\n",
        "# recorremos el listado con valores deseados, llamamos a nuestra función de fuerza bruta y obtenemos la expresión\n",
        "for i in range(len(resultado)):\n",
        "  res=fuerza_bruta(digitos, signos, resultado[i])\n",
        "  # si res = x, significa que el valor está fuera del rango de valores que podemos obtener, en ese caso imprimiremos que está fuera de rango\n",
        "  print(res)\n",
        "  \n",
        "  #if res != 'x' and res != 'X':\n",
        "  #  print('La expresión ' + str(res) + ' devuelve el valor buscado de: ' + str(resultado[i]))\n",
        "  #elif res == 'X':\n",
        "  #  print('No se puede obtener este valor con las condiciones actuales')"
      ],
      "execution_count": 2,
      "outputs": [
        {
          "output_type": "stream",
          "text": [
            "La expresión 1+4/2-8*9 devuelve el valor buscado de: -69\n",
            "La expresión 7+8*9-2/1 devuelve el valor buscado de: 77\n",
            "La expresión 1+2-3*4/6 devuelve el valor buscado de: 1\n",
            "La expresión 4+7*9-2/1 devuelve el valor buscado de: 65\n",
            "La expresión 2+4-6*9/1 devuelve el valor buscado de: -48\n",
            "La expresión 1+2-3*8/4 devuelve el valor buscado de: -3\n",
            "La expresión 1+2*5-9/3 devuelve el valor buscado de: 8\n",
            "La expresión 1+4*9/2-3 devuelve el valor buscado de: 16\n",
            "La expresión 1+2-4*6/8 devuelve el valor buscado de: 0\n",
            "El valor 100 no está entre -69 y 77\n",
            "La expresión 1+6/3-4*9 devuelve el valor buscado de: -33\n"
          ],
          "name": "stdout"
        }
      ]
    },
    {
      "metadata": {
        "id": "tgrnsC2nkFa8",
        "colab_type": "text"
      },
      "cell_type": "markdown",
      "source": [
        "<font color = \"green\">Calcula la complejidad del algoritmo por fuerza bruta</font>"
      ]
    },
    {
      "metadata": {
        "id": "9eUd3xwckP68",
        "colab_type": "text"
      },
      "cell_type": "markdown",
      "source": [
        "La complejidad del algoritmo es polinómica O(n^9), esto se debe a que tenemos 9 ciclos for anidados"
      ]
    },
    {
      "metadata": {
        "id": "txbrmLmskReM",
        "colab_type": "text"
      },
      "cell_type": "markdown",
      "source": [
        "<font color = \"green\">(*)Diseña un algoritmo que mejore la complejidad del algortimo por fuerza bruta. Argumenta porque crees que mejora el algoritmo por fuerza bruta</font>"
      ]
    },
    {
      "metadata": {
        "id": "n_xNEMmhvTy6",
        "colab_type": "text"
      },
      "cell_type": "markdown",
      "source": [
        "He decidido implementar un algoritmo de vuelta atras. Este algoritmo mejora el de fuerza bruta porque elimino una serie de comprobaciones basadas en 2 comprobaciones:\n",
        "* Si al evaluar un resultado parcial, el mismo se encuentra por debajo del resultado que deseo obtener, y a su vez ya he usado los operadores * y +, será imposible que alcance el resultado final, por lo que no sigo comprobando esa línea y vuelvo atrás.\n",
        "* Si al evaluar un resultado parcial, el mismo se encuentra por debajo del resultado que deseo obtener en nueve unidades, y a su vez ya he usado el operador *, será imposible que alcance el resultado final, por lo que no sigo comprobando esa línea y vuelvo atrás.\n",
        "\n",
        "A continuación pongo el código implementado"
      ]
    },
    {
      "metadata": {
        "id": "m1eyM21Vkabg",
        "colab_type": "code",
        "colab": {
          "base_uri": "https://localhost:8080/",
          "height": 2950
        },
        "outputId": "3bb9bd25-b075-42cf-c9b3-3c8b9fe6a33e"
      },
      "cell_type": "code",
      "source": [
        "# la libreria collections la utilizamos para comprobar si hay repetidos en una cadena\n",
        "import collections\n",
        "\n",
        "def es_prometedora(solucion,resultado):\n",
        "  cadena = ''\n",
        "  aster, suma = 0, 0\n",
        "  \n",
        "  # cogemos la lista de solucion y la almacenamos en una string, siempre que no sea 0 (0 significa que aún no hay solución en esa etapa)\n",
        "  for i in range(len(solucion)):\n",
        "    if solucion[i] != 0:\n",
        "      cadena = cadena + solucion[i]\n",
        "  \n",
        "  # una de las condiciones del problema es que no se pueden repetir digitos o signos, si existieran valores repetidos la solucion no es prometedora\n",
        "  cuenta1 = collections.Counter(cadena)\n",
        "  for caracter, count in cuenta1.most_common(1):\n",
        "    max = count\n",
        "  \n",
        "  # si no hay valores repetidos, comprobamos si ya hemos usado la * y la +\n",
        "  if max == 1:  \n",
        "    if cadena.find(\"*\") > 0:\n",
        "      aster = 1\n",
        "    if cadena.find(\"+\") > 0:\n",
        "      suma = 1    \n",
        "  \n",
        "    # Si ya hemos usado la multiplicacion y la suma y aún estamos por debajo del valor que buscamos, nunca podremos alcanzarlo por lo que la solucion es no prometedora\n",
        "    if eval(cadena) < resultado and aster > 0 and suma > 0:\n",
        "      return False\n",
        "    # Si ya hemos usado la multiplicación y el valor parcial alcanzado está 9 unidades por debajo del valor deseado, ya no podremos alcanzarlo, solucion no prometedora\n",
        "    elif eval(cadena) < resultado - 9 and aster > 0:\n",
        "      return False\n",
        "  else:\n",
        "    return False\n",
        "  \n",
        "  return True\n",
        "\n",
        "\n",
        "def digitos_vuelta_atras(N, digitos, signos, solucion, resultado, etapa):\n",
        "  # para cada una de las nueve posiciones\n",
        "  for i in range(N):\n",
        "    # si la posicion es par corresponde guardar un digito, sino un signo\n",
        "    if etapa%2 == 0:\n",
        "      solucion[etapa] = digitos[i]\n",
        "      # llamamos a la funcion es_prometedora para ver si lo es o no\n",
        "      if es_prometedora(solucion, resultado):\n",
        "        # si es prometedora y la misma vez nos encontramos en la última etapa, comprobamos si la expresion obtenida alcanza el valor que se desea\n",
        "        if etapa == N-1:\n",
        "          expres = ''\n",
        "          # creamos una cadena concatenando cada una de las posiciones guardadas en la lista solucion\n",
        "          for i in range(len(solucion)):\n",
        "            expres = expres + solucion[i]\n",
        "          # evaluamos si la expresion alcanza el resultado que deseamos, de ser así lo imprimimos y si no lo descartamos\n",
        "          if eval(expres) == resultado:\n",
        "            print('\\n\\nUna expresión para calcular '+str(resultado)+' es: '+expres)\n",
        "          else:\n",
        "            None\n",
        "        else:\n",
        "          # si es prometedora pero no es la ultima etapa llamamos recursivamente a nuestra funcion\n",
        "          digitos_vuelta_atras(N, digitos, signos, solucion, resultado, etapa+1)\n",
        "      else:\n",
        "        None\n",
        "    elif i < 4:\n",
        "      # si es una ciclo del lazo impar, la posicion tiene que ser ocupada por un signo, además con i<4 comprobamos que no se desborde nuestra lista de signos que es menor que la de digitos\n",
        "      solucion[etapa] = signos[i]\n",
        "      digitos_vuelta_atras(N, digitos, signos, solucion, resultado, etapa+1)\n",
        "    else:\n",
        "      None\n",
        "    \n",
        "    # si no hemos alcanzado una solución limpiamos el valor de la solucion para la etapa y pasamos al siguiente ciclo del for\n",
        "    solucion[etapa]=0\n",
        "    \n",
        "\n",
        "    \n",
        "# lista con los dígitos del enunciado\n",
        "digitos=['1','2','3','4','5','6','7','8','9']\n",
        "# lista con los signos del enunciado\n",
        "signos =['+','-','*','/']\n",
        "\n",
        "# lista de posibles resultados para comprobar la validez del algoritmo\n",
        "resultado = [-69,77,100]\n",
        "\n",
        "\n",
        "# número de posiciones que tenemos dentro de la expresión\n",
        "N=9\n",
        "# variable para controlar dentro de que posición de la expresión estamos\n",
        "etapa = 0\n",
        "#inicializamos una lista con 9 ceros para guardar en cada posición el valor que encontremos\n",
        "solucion = [0 for i in range(N)]\n",
        "\n",
        "\n",
        "# recorremos el listado con valores deseados, llamamos a nuestra función y obtenemos la expresión\n",
        "for i in range(len(resultado)):\n",
        "  # como ya hemos comprobado el mínimo que se puede alcanzar es -69 y el máximo 77, por lo que si llega un valor fuera de ese rango no lo tratamos\n",
        "  if resultado[i]<-69 or resultado[i]> 77:\n",
        "    print('\\n\\nEl valor '+str(resultado[i])+' no se puede alcanzar con las condiciones del problema')\n",
        "  else:\n",
        "    # llamamos a nuestra función de vuelta atrás para conseguir las expresiones que devuelven el valor entrado\n",
        "    f=digitos_vuelta_atras(N, digitos, signos, solucion, resultado[i], etapa)"
      ],
      "execution_count": 1,
      "outputs": [
        {
          "output_type": "stream",
          "text": [
            "\n",
            "\n",
            "Una expresión para calcular -69 es: 1+4/2-8*9\n",
            "\n",
            "\n",
            "Una expresión para calcular -69 es: 1+4/2-9*8\n",
            "\n",
            "\n",
            "Una expresión para calcular -69 es: 1+6/3-8*9\n",
            "\n",
            "\n",
            "Una expresión para calcular -69 es: 1+6/3-9*8\n",
            "\n",
            "\n",
            "Una expresión para calcular -69 es: 1-8*9+4/2\n",
            "\n",
            "\n",
            "Una expresión para calcular -69 es: 1-8*9+6/3\n",
            "\n",
            "\n",
            "Una expresión para calcular -69 es: 1-9*8+4/2\n",
            "\n",
            "\n",
            "Una expresión para calcular -69 es: 1-9*8+6/3\n",
            "\n",
            "\n",
            "Una expresión para calcular -69 es: 4/2+1-8*9\n",
            "\n",
            "\n",
            "Una expresión para calcular -69 es: 4/2+1-9*8\n",
            "\n",
            "\n",
            "Una expresión para calcular -69 es: 4/2-8*9+1\n",
            "\n",
            "\n",
            "Una expresión para calcular -69 es: 4/2-9*8+1\n",
            "\n",
            "\n",
            "Una expresión para calcular -69 es: 6/3+1-8*9\n",
            "\n",
            "\n",
            "Una expresión para calcular -69 es: 6/3+1-9*8\n",
            "\n",
            "\n",
            "Una expresión para calcular -69 es: 6/3-8*9+1\n",
            "\n",
            "\n",
            "Una expresión para calcular -69 es: 6/3-9*8+1\n",
            "\n",
            "\n",
            "Una expresión para calcular 77 es: 7+8*9-2/1\n",
            "\n",
            "\n",
            "Una expresión para calcular 77 es: 7+8*9/1-2\n",
            "\n",
            "\n",
            "Una expresión para calcular 77 es: 7+8/1*9-2\n",
            "\n",
            "\n",
            "Una expresión para calcular 77 es: 7+9*8-2/1\n",
            "\n",
            "\n",
            "Una expresión para calcular 77 es: 7+9*8/1-2\n",
            "\n",
            "\n",
            "Una expresión para calcular 77 es: 7+9/1*8-2\n",
            "\n",
            "\n",
            "Una expresión para calcular 77 es: 7-2+8*9/1\n",
            "\n",
            "\n",
            "Una expresión para calcular 77 es: 7-2+8/1*9\n",
            "\n",
            "\n",
            "Una expresión para calcular 77 es: 7-2+9*8/1\n",
            "\n",
            "\n",
            "Una expresión para calcular 77 es: 7-2+9/1*8\n",
            "\n",
            "\n",
            "Una expresión para calcular 77 es: 7-2/1+8*9\n",
            "\n",
            "\n",
            "Una expresión para calcular 77 es: 7-2/1+9*8\n",
            "\n",
            "\n",
            "Una expresión para calcular 77 es: 7-4/2+8*9\n",
            "\n",
            "\n",
            "Una expresión para calcular 77 es: 7-4/2+9*8\n",
            "\n",
            "\n",
            "Una expresión para calcular 77 es: 7-6/3+8*9\n",
            "\n",
            "\n",
            "Una expresión para calcular 77 es: 7-6/3+9*8\n",
            "\n",
            "\n",
            "Una expresión para calcular 77 es: 7/1+8*9-2\n",
            "\n",
            "\n",
            "Una expresión para calcular 77 es: 7/1+9*8-2\n",
            "\n",
            "\n",
            "Una expresión para calcular 77 es: 7/1-2+8*9\n",
            "\n",
            "\n",
            "Una expresión para calcular 77 es: 7/1-2+9*8\n",
            "\n",
            "\n",
            "Una expresión para calcular 77 es: 8*9+7-2/1\n",
            "\n",
            "\n",
            "Una expresión para calcular 77 es: 8*9+7/1-2\n",
            "\n",
            "\n",
            "Una expresión para calcular 77 es: 8*9-2+7/1\n",
            "\n",
            "\n",
            "Una expresión para calcular 77 es: 8*9-2/1+7\n",
            "\n",
            "\n",
            "Una expresión para calcular 77 es: 8*9-4/2+7\n",
            "\n",
            "\n",
            "Una expresión para calcular 77 es: 8*9/1+7-2\n",
            "\n",
            "\n",
            "Una expresión para calcular 77 es: 8*9/1-2+7\n",
            "\n",
            "\n",
            "Una expresión para calcular 77 es: 8/1*9+7-2\n",
            "\n",
            "\n",
            "Una expresión para calcular 77 es: 8/1*9-2+7\n",
            "\n",
            "\n",
            "Una expresión para calcular 77 es: 9*8+7-2/1\n",
            "\n",
            "\n",
            "Una expresión para calcular 77 es: 9*8+7/1-2\n",
            "\n",
            "\n",
            "Una expresión para calcular 77 es: 9*8-2+7/1\n",
            "\n",
            "\n",
            "Una expresión para calcular 77 es: 9*8-2/1+7\n",
            "\n",
            "\n",
            "Una expresión para calcular 77 es: 9*8-4/2+7\n",
            "\n",
            "\n",
            "Una expresión para calcular 77 es: 9*8/1+7-2\n",
            "\n",
            "\n",
            "Una expresión para calcular 77 es: 9*8/1-2+7\n",
            "\n",
            "\n",
            "Una expresión para calcular 77 es: 9/1*8+7-2\n",
            "\n",
            "\n",
            "Una expresión para calcular 77 es: 9/1*8-2+7\n",
            "\n",
            "\n",
            "El valor 100 no se puede alcanzar con las condiciones del problema\n"
          ],
          "name": "stdout"
        }
      ]
    },
    {
      "metadata": {
        "id": "eGDB4K6uk1iN",
        "colab_type": "text"
      },
      "cell_type": "markdown",
      "source": [
        "<font color = \"green\">(*)Calcula la complejidad del algoritmo </font>"
      ]
    },
    {
      "metadata": {
        "id": "NhpTh_BPk1ms",
        "colab_type": "text"
      },
      "cell_type": "markdown",
      "source": [
        "La complejidad sigue siendo la misma en el peor de los escenarios, lo que conseguimos es no tener que probar todas las combinaciones en gran cantidad de oportunidades porque comprobamos que de seguir ese camino no conseguiremos el resultado final."
      ]
    },
    {
      "metadata": {
        "id": "3M6QjTsSkmYe",
        "colab_type": "text"
      },
      "cell_type": "markdown",
      "source": [
        "<font color = \"green\">Según el problema (y tenga sentido), diseña un juego de datos de entrada aleatorios</font>"
      ]
    },
    {
      "metadata": {
        "id": "Jc3_OlyNkvjZ",
        "colab_type": "text"
      },
      "cell_type": "markdown",
      "source": [
        "Para este problema no tiene sentido diseñar un juego de datos de entrada"
      ]
    },
    {
      "metadata": {
        "id": "zy5ZROmjlGo1",
        "colab_type": "text"
      },
      "cell_type": "markdown",
      "source": [
        "<font color = \"green\">Aplica el algoritmo al juego de datos generado</font>"
      ]
    },
    {
      "metadata": {
        "id": "_Cmj-PVylMsa",
        "colab_type": "text"
      },
      "cell_type": "markdown",
      "source": [
        "No procede"
      ]
    },
    {
      "metadata": {
        "colab_type": "text",
        "id": "eTFWUJQrtGcv"
      },
      "cell_type": "markdown",
      "source": [
        "<font color = \"green\">Enumera las referencias que has utilizado(si ha sido necesario) para llevar a cabo el trabajo</font>"
      ]
    },
    {
      "metadata": {
        "id": "YKQ_mRBttWsP",
        "colab_type": "text"
      },
      "cell_type": "markdown",
      "source": [
        "http://www.unavarra.es/digitalAssets/124/124059_100000Permutaciones-y-combinaciones.pdf\n",
        "https://ocw.ehu.eus/pluginfile.php/9411/mod_resource/content/1/04_Busqueda_Exhaustiva/04_Busqueda_Exhaustiva_v2.pdf"
      ]
    },
    {
      "metadata": {
        "id": "kAkDPUyRtYyH",
        "colab_type": "text"
      },
      "cell_type": "markdown",
      "source": [
        "<font color = \"green\">Describe brevemente las lineas de como crees que es posible avanzar en el estudio del problema. Ten en cuenta incluso posibles variaciones del problema y/o variaciones al alza del tamaño</font>"
      ]
    },
    {
      "metadata": {
        "id": "IE0uZmo-tZu-",
        "colab_type": "text"
      },
      "cell_type": "markdown",
      "source": [
        "* Podríamos incluir más operadores, por ejemplo \"(  )  ^n  raíces\". \n",
        "* Podríamos incluir dígitos de entrada con más de una cifra.\n",
        "* Podríamos dejar que se repitieran los dígitos y operadores. \n",
        "* Podríamos alargar el tamaño de la expresión"
      ]
    }
  ]
}